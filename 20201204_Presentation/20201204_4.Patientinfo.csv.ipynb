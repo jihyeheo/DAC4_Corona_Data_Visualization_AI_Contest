{
 "cells": [
  {
   "cell_type": "markdown",
   "metadata": {},
   "source": [
    "### 1. 데이터 불러오기"
   ]
  },
  {
   "cell_type": "code",
   "execution_count": 55,
   "metadata": {},
   "outputs": [
    {
     "data": {
      "text/html": [
       "<div>\n",
       "<style scoped>\n",
       "    .dataframe tbody tr th:only-of-type {\n",
       "        vertical-align: middle;\n",
       "    }\n",
       "\n",
       "    .dataframe tbody tr th {\n",
       "        vertical-align: top;\n",
       "    }\n",
       "\n",
       "    .dataframe thead th {\n",
       "        text-align: right;\n",
       "    }\n",
       "</style>\n",
       "<table border=\"1\" class=\"dataframe\">\n",
       "  <thead>\n",
       "    <tr style=\"text-align: right;\">\n",
       "      <th></th>\n",
       "      <th>patient_id</th>\n",
       "      <th>global_num</th>\n",
       "      <th>sex</th>\n",
       "      <th>birth_year</th>\n",
       "      <th>age</th>\n",
       "      <th>country</th>\n",
       "      <th>province</th>\n",
       "      <th>city</th>\n",
       "      <th>disease</th>\n",
       "      <th>infection_case</th>\n",
       "      <th>infection_order</th>\n",
       "      <th>infected_by</th>\n",
       "      <th>contact_number</th>\n",
       "      <th>symptom_onset_date</th>\n",
       "      <th>confirmed_date</th>\n",
       "      <th>released_date</th>\n",
       "      <th>deceased_date</th>\n",
       "      <th>state</th>\n",
       "    </tr>\n",
       "  </thead>\n",
       "  <tbody>\n",
       "    <tr>\n",
       "      <th>0</th>\n",
       "      <td>1000000001</td>\n",
       "      <td>2.0</td>\n",
       "      <td>male</td>\n",
       "      <td>1964</td>\n",
       "      <td>50s</td>\n",
       "      <td>Korea</td>\n",
       "      <td>Seoul</td>\n",
       "      <td>Gangseo-gu</td>\n",
       "      <td>NaN</td>\n",
       "      <td>overseas inflow</td>\n",
       "      <td>1.0</td>\n",
       "      <td>NaN</td>\n",
       "      <td>75</td>\n",
       "      <td>2020-01-22</td>\n",
       "      <td>2020-01-23</td>\n",
       "      <td>2020-02-05</td>\n",
       "      <td>NaN</td>\n",
       "      <td>released</td>\n",
       "    </tr>\n",
       "    <tr>\n",
       "      <th>1</th>\n",
       "      <td>1000000002</td>\n",
       "      <td>5.0</td>\n",
       "      <td>male</td>\n",
       "      <td>1987</td>\n",
       "      <td>30s</td>\n",
       "      <td>Korea</td>\n",
       "      <td>Seoul</td>\n",
       "      <td>Jungnang-gu</td>\n",
       "      <td>NaN</td>\n",
       "      <td>overseas inflow</td>\n",
       "      <td>1.0</td>\n",
       "      <td>NaN</td>\n",
       "      <td>31</td>\n",
       "      <td>NaN</td>\n",
       "      <td>2020-01-30</td>\n",
       "      <td>2020-03-02</td>\n",
       "      <td>NaN</td>\n",
       "      <td>released</td>\n",
       "    </tr>\n",
       "    <tr>\n",
       "      <th>2</th>\n",
       "      <td>1000000003</td>\n",
       "      <td>6.0</td>\n",
       "      <td>male</td>\n",
       "      <td>1964</td>\n",
       "      <td>50s</td>\n",
       "      <td>Korea</td>\n",
       "      <td>Seoul</td>\n",
       "      <td>Jongno-gu</td>\n",
       "      <td>NaN</td>\n",
       "      <td>contact with patient</td>\n",
       "      <td>2.0</td>\n",
       "      <td>2002000001</td>\n",
       "      <td>17</td>\n",
       "      <td>NaN</td>\n",
       "      <td>2020-01-30</td>\n",
       "      <td>2020-02-19</td>\n",
       "      <td>NaN</td>\n",
       "      <td>released</td>\n",
       "    </tr>\n",
       "    <tr>\n",
       "      <th>3</th>\n",
       "      <td>1000000004</td>\n",
       "      <td>7.0</td>\n",
       "      <td>male</td>\n",
       "      <td>1991</td>\n",
       "      <td>20s</td>\n",
       "      <td>Korea</td>\n",
       "      <td>Seoul</td>\n",
       "      <td>Mapo-gu</td>\n",
       "      <td>NaN</td>\n",
       "      <td>overseas inflow</td>\n",
       "      <td>1.0</td>\n",
       "      <td>NaN</td>\n",
       "      <td>9</td>\n",
       "      <td>2020-01-26</td>\n",
       "      <td>2020-01-30</td>\n",
       "      <td>2020-02-15</td>\n",
       "      <td>NaN</td>\n",
       "      <td>released</td>\n",
       "    </tr>\n",
       "    <tr>\n",
       "      <th>4</th>\n",
       "      <td>1000000005</td>\n",
       "      <td>9.0</td>\n",
       "      <td>female</td>\n",
       "      <td>1992</td>\n",
       "      <td>20s</td>\n",
       "      <td>Korea</td>\n",
       "      <td>Seoul</td>\n",
       "      <td>Seongbuk-gu</td>\n",
       "      <td>NaN</td>\n",
       "      <td>contact with patient</td>\n",
       "      <td>2.0</td>\n",
       "      <td>1000000002</td>\n",
       "      <td>2</td>\n",
       "      <td>NaN</td>\n",
       "      <td>2020-01-31</td>\n",
       "      <td>2020-02-24</td>\n",
       "      <td>NaN</td>\n",
       "      <td>released</td>\n",
       "    </tr>\n",
       "    <tr>\n",
       "      <th>...</th>\n",
       "      <td>...</td>\n",
       "      <td>...</td>\n",
       "      <td>...</td>\n",
       "      <td>...</td>\n",
       "      <td>...</td>\n",
       "      <td>...</td>\n",
       "      <td>...</td>\n",
       "      <td>...</td>\n",
       "      <td>...</td>\n",
       "      <td>...</td>\n",
       "      <td>...</td>\n",
       "      <td>...</td>\n",
       "      <td>...</td>\n",
       "      <td>...</td>\n",
       "      <td>...</td>\n",
       "      <td>...</td>\n",
       "      <td>...</td>\n",
       "      <td>...</td>\n",
       "    </tr>\n",
       "    <tr>\n",
       "      <th>3999</th>\n",
       "      <td>7000000010</td>\n",
       "      <td>NaN</td>\n",
       "      <td>female</td>\n",
       "      <td>NaN</td>\n",
       "      <td>20s</td>\n",
       "      <td>Korea</td>\n",
       "      <td>Jeju-do</td>\n",
       "      <td>Jeju-do</td>\n",
       "      <td>NaN</td>\n",
       "      <td>overseas inflow</td>\n",
       "      <td>NaN</td>\n",
       "      <td>NaN</td>\n",
       "      <td>18</td>\n",
       "      <td>NaN</td>\n",
       "      <td>2020-04-03</td>\n",
       "      <td>2020-04-21</td>\n",
       "      <td>NaN</td>\n",
       "      <td>released</td>\n",
       "    </tr>\n",
       "    <tr>\n",
       "      <th>4000</th>\n",
       "      <td>7000000011</td>\n",
       "      <td>NaN</td>\n",
       "      <td>male</td>\n",
       "      <td>NaN</td>\n",
       "      <td>30s</td>\n",
       "      <td>Korea</td>\n",
       "      <td>Jeju-do</td>\n",
       "      <td>Jeju-do</td>\n",
       "      <td>NaN</td>\n",
       "      <td>contact with patient</td>\n",
       "      <td>NaN</td>\n",
       "      <td>7000000009</td>\n",
       "      <td>5</td>\n",
       "      <td>NaN</td>\n",
       "      <td>2020-04-03</td>\n",
       "      <td>NaN</td>\n",
       "      <td>NaN</td>\n",
       "      <td>isolated</td>\n",
       "    </tr>\n",
       "    <tr>\n",
       "      <th>4001</th>\n",
       "      <td>7000000012</td>\n",
       "      <td>NaN</td>\n",
       "      <td>female</td>\n",
       "      <td>NaN</td>\n",
       "      <td>20s</td>\n",
       "      <td>Korea</td>\n",
       "      <td>Jeju-do</td>\n",
       "      <td>Jeju-do</td>\n",
       "      <td>NaN</td>\n",
       "      <td>overseas inflow</td>\n",
       "      <td>NaN</td>\n",
       "      <td>NaN</td>\n",
       "      <td>9</td>\n",
       "      <td>NaN</td>\n",
       "      <td>2020-04-03</td>\n",
       "      <td>2020-05-05</td>\n",
       "      <td>NaN</td>\n",
       "      <td>released</td>\n",
       "    </tr>\n",
       "    <tr>\n",
       "      <th>4002</th>\n",
       "      <td>7000000013</td>\n",
       "      <td>NaN</td>\n",
       "      <td>female</td>\n",
       "      <td>NaN</td>\n",
       "      <td>10s</td>\n",
       "      <td>China</td>\n",
       "      <td>Jeju-do</td>\n",
       "      <td>Jeju-do</td>\n",
       "      <td>NaN</td>\n",
       "      <td>overseas inflow</td>\n",
       "      <td>NaN</td>\n",
       "      <td>NaN</td>\n",
       "      <td>6</td>\n",
       "      <td>NaN</td>\n",
       "      <td>2020-04-14</td>\n",
       "      <td>2020-04-26</td>\n",
       "      <td>NaN</td>\n",
       "      <td>released</td>\n",
       "    </tr>\n",
       "    <tr>\n",
       "      <th>4003</th>\n",
       "      <td>7000000014</td>\n",
       "      <td>NaN</td>\n",
       "      <td>female</td>\n",
       "      <td>NaN</td>\n",
       "      <td>30s</td>\n",
       "      <td>Korea</td>\n",
       "      <td>Jeju-do</td>\n",
       "      <td>Jeju-do</td>\n",
       "      <td>NaN</td>\n",
       "      <td>Itaewon Clubs</td>\n",
       "      <td>NaN</td>\n",
       "      <td>NaN</td>\n",
       "      <td>NaN</td>\n",
       "      <td>NaN</td>\n",
       "      <td>2020-05-09</td>\n",
       "      <td>NaN</td>\n",
       "      <td>NaN</td>\n",
       "      <td>isolated</td>\n",
       "    </tr>\n",
       "  </tbody>\n",
       "</table>\n",
       "<p>4004 rows × 18 columns</p>\n",
       "</div>"
      ],
      "text/plain": [
       "      patient_id  global_num     sex birth_year  age country province  \\\n",
       "0     1000000001         2.0    male       1964  50s   Korea    Seoul   \n",
       "1     1000000002         5.0    male       1987  30s   Korea    Seoul   \n",
       "2     1000000003         6.0    male       1964  50s   Korea    Seoul   \n",
       "3     1000000004         7.0    male       1991  20s   Korea    Seoul   \n",
       "4     1000000005         9.0  female       1992  20s   Korea    Seoul   \n",
       "...          ...         ...     ...        ...  ...     ...      ...   \n",
       "3999  7000000010         NaN  female        NaN  20s   Korea  Jeju-do   \n",
       "4000  7000000011         NaN    male        NaN  30s   Korea  Jeju-do   \n",
       "4001  7000000012         NaN  female        NaN  20s   Korea  Jeju-do   \n",
       "4002  7000000013         NaN  female        NaN  10s   China  Jeju-do   \n",
       "4003  7000000014         NaN  female        NaN  30s   Korea  Jeju-do   \n",
       "\n",
       "             city disease        infection_case  infection_order infected_by  \\\n",
       "0      Gangseo-gu     NaN       overseas inflow              1.0         NaN   \n",
       "1     Jungnang-gu     NaN       overseas inflow              1.0         NaN   \n",
       "2       Jongno-gu     NaN  contact with patient              2.0  2002000001   \n",
       "3         Mapo-gu     NaN       overseas inflow              1.0         NaN   \n",
       "4     Seongbuk-gu     NaN  contact with patient              2.0  1000000002   \n",
       "...           ...     ...                   ...              ...         ...   \n",
       "3999      Jeju-do     NaN       overseas inflow              NaN         NaN   \n",
       "4000      Jeju-do     NaN  contact with patient              NaN  7000000009   \n",
       "4001      Jeju-do     NaN       overseas inflow              NaN         NaN   \n",
       "4002      Jeju-do     NaN       overseas inflow              NaN         NaN   \n",
       "4003      Jeju-do     NaN         Itaewon Clubs              NaN         NaN   \n",
       "\n",
       "     contact_number symptom_onset_date confirmed_date released_date  \\\n",
       "0                75         2020-01-22     2020-01-23    2020-02-05   \n",
       "1                31                NaN     2020-01-30    2020-03-02   \n",
       "2                17                NaN     2020-01-30    2020-02-19   \n",
       "3                 9         2020-01-26     2020-01-30    2020-02-15   \n",
       "4                 2                NaN     2020-01-31    2020-02-24   \n",
       "...             ...                ...            ...           ...   \n",
       "3999             18                NaN     2020-04-03    2020-04-21   \n",
       "4000              5                NaN     2020-04-03           NaN   \n",
       "4001              9                NaN     2020-04-03    2020-05-05   \n",
       "4002              6                NaN     2020-04-14    2020-04-26   \n",
       "4003            NaN                NaN     2020-05-09           NaN   \n",
       "\n",
       "     deceased_date     state  \n",
       "0              NaN  released  \n",
       "1              NaN  released  \n",
       "2              NaN  released  \n",
       "3              NaN  released  \n",
       "4              NaN  released  \n",
       "...            ...       ...  \n",
       "3999           NaN  released  \n",
       "4000           NaN  isolated  \n",
       "4001           NaN  released  \n",
       "4002           NaN  released  \n",
       "4003           NaN  isolated  \n",
       "\n",
       "[4004 rows x 18 columns]"
      ]
     },
     "execution_count": 55,
     "metadata": {},
     "output_type": "execute_result"
    }
   ],
   "source": [
    "import pandas as pd\n",
    "patient = pd.read_csv(\"C:/Users/HOME/Desktop/수DA쟁이/20201127_TEAMPROJECT_4/코로나19/coronavirusdataset_20200601/PatientInfo.csv\")\n",
    "patient"
   ]
  },
  {
   "cell_type": "code",
   "execution_count": 54,
   "metadata": {
    "scrolled": true
   },
   "outputs": [
    {
     "data": {
      "text/plain": [
       "Index(['patient_id', 'global_num', 'sex', 'birth_year', 'age', 'country',\n",
       "       'province', 'city', 'disease', 'infection_case', 'infection_order',\n",
       "       'infected_by', 'contact_number', 'symptom_onset_date', 'confirmed_date',\n",
       "       'released_date', 'deceased_date', 'state'],\n",
       "      dtype='object')"
      ]
     },
     "execution_count": 54,
     "metadata": {},
     "output_type": "execute_result"
    }
   ],
   "source": [
    "patient.columns"
   ]
  },
  {
   "cell_type": "code",
   "execution_count": 34,
   "metadata": {
    "scrolled": true
   },
   "outputs": [
    {
     "name": "stdout",
     "output_type": "stream",
     "text": [
      "<class 'pandas.core.frame.DataFrame'>\n",
      "RangeIndex: 4004 entries, 0 to 4003\n",
      "Data columns (total 18 columns):\n",
      " #   Column              Non-Null Count  Dtype  \n",
      "---  ------              --------------  -----  \n",
      " 0   patient_id          4004 non-null   int64  \n",
      " 1   global_num          2806 non-null   float64\n",
      " 2   sex                 3674 non-null   object \n",
      " 3   birth_year          3267 non-null   object \n",
      " 4   age                 3525 non-null   object \n",
      " 5   country             4004 non-null   object \n",
      " 6   province            4004 non-null   object \n",
      " 7   city                3926 non-null   object \n",
      " 8   disease             18 non-null     object \n",
      " 9   infection_case      3211 non-null   object \n",
      " 10  infection_order     31 non-null     float64\n",
      " 11  infected_by         899 non-null    object \n",
      " 12  contact_number      680 non-null    object \n",
      " 13  symptom_onset_date  535 non-null    object \n",
      " 14  confirmed_date      4001 non-null   object \n",
      " 15  released_date       1508 non-null   object \n",
      " 16  deceased_date       65 non-null     object \n",
      " 17  state               4004 non-null   object \n",
      "dtypes: float64(2), int64(1), object(15)\n",
      "memory usage: 563.2+ KB\n"
     ]
    }
   ],
   "source": [
    "patient.info()"
   ]
  },
  {
   "cell_type": "markdown",
   "metadata": {},
   "source": [
    "contact_number : 사람들과의 접촉 수"
   ]
  },
  {
   "cell_type": "code",
   "execution_count": 12,
   "metadata": {},
   "outputs": [
    {
     "data": {
      "text/plain": [
       "1475      -\n",
       "1474      -\n",
       "1464      -\n",
       "1463      -\n",
       "2525      0\n",
       "       ... \n",
       "3986    NaN\n",
       "3987    NaN\n",
       "3988    NaN\n",
       "3989    NaN\n",
       "4003    NaN\n",
       "Name: contact_number, Length: 4004, dtype: object"
      ]
     },
     "execution_count": 12,
     "metadata": {},
     "output_type": "execute_result"
    }
   ],
   "source": [
    "patient['contact_number'].sort_values()"
   ]
  },
  {
   "cell_type": "code",
   "execution_count": 13,
   "metadata": {},
   "outputs": [
    {
     "data": {
      "text/plain": [
       "array(['75', '31', '17', '9', '2', '43', '0', '68', '6', '23', '117',\n",
       "       '27', '8', nan, '4', '3', '1', '1000000772', '1000000796', '1091',\n",
       "       '131', '16', '14', '485', '19', '296', '15', '34', '37', '22', '7',\n",
       "       '10', '28', '21', '5', '25', '18', '159', '11', '30', '41', '71',\n",
       "       '38', '13', '24', '185', '160', '1160', '450', '65', '156', '39',\n",
       "       '47', '86', '74', '12', '46', '64', '66', '40', '45', '26', '-',\n",
       "       '95', '422', '290', '32', '53', '29', '70', '35', '51', '130',\n",
       "       '106', '174', '78', '33', '89', '113', '36', '42', '87', '84',\n",
       "       '20'], dtype=object)"
      ]
     },
     "execution_count": 13,
     "metadata": {},
     "output_type": "execute_result"
    }
   ],
   "source": [
    "patient['contact_number'].unique()"
   ]
  },
  {
   "cell_type": "code",
   "execution_count": 47,
   "metadata": {},
   "outputs": [],
   "source": [
    "patient['contact_number'] = patient['contact_number'].dropna()"
   ]
  },
  {
   "cell_type": "code",
   "execution_count": 48,
   "metadata": {},
   "outputs": [
    {
     "data": {
      "text/plain": [
       "0        75\n",
       "1        31\n",
       "2        17\n",
       "3         9\n",
       "4         2\n",
       "       ... \n",
       "3999     18\n",
       "4000      5\n",
       "4001      9\n",
       "4002      6\n",
       "4003    NaN\n",
       "Name: contact_number, Length: 4004, dtype: object"
      ]
     },
     "execution_count": 48,
     "metadata": {},
     "output_type": "execute_result"
    }
   ],
   "source": [
    "patient['contact_number']"
   ]
  },
  {
   "cell_type": "code",
   "execution_count": 50,
   "metadata": {},
   "outputs": [
    {
     "data": {
      "text/plain": [
       "[818]"
      ]
     },
     "execution_count": 50,
     "metadata": {},
     "output_type": "execute_result"
    }
   ],
   "source": [
    "patient['contact_number'][patient['contact_number'] == '1000000796'].index.tolist()"
   ]
  },
  {
   "cell_type": "code",
   "execution_count": 52,
   "metadata": {},
   "outputs": [
    {
     "data": {
      "text/plain": [
       "patient_id              1000000819\n",
       "global_num                   11304\n",
       "sex                            NaN\n",
       "birth_year                     NaN\n",
       "age                            NaN\n",
       "country                      Korea\n",
       "province                     Seoul\n",
       "city                  Eunpyeong-gu\n",
       "disease                        NaN\n",
       "infection_case                 NaN\n",
       "infection_order                NaN\n",
       "infected_by                    NaN\n",
       "contact_number          1000000796\n",
       "symptom_onset_date             NaN\n",
       "confirmed_date          2020-05-27\n",
       "released_date                  NaN\n",
       "deceased_date                  NaN\n",
       "state                     isolated\n",
       "Name: 818, dtype: object"
      ]
     },
     "execution_count": 52,
     "metadata": {},
     "output_type": "execute_result"
    }
   ],
   "source": [
    "p2 = patient.loc[818,:]\n",
    "p2"
   ]
  },
  {
   "cell_type": "code",
   "execution_count": 58,
   "metadata": {},
   "outputs": [
    {
     "data": {
      "text/plain": [
       "2000000205    51\n",
       "4100000008    27\n",
       "2000000167    24\n",
       "2000000309    21\n",
       "4100000006    21\n",
       "              ..\n",
       "4100000024     1\n",
       "2000000225     1\n",
       "2000000003     1\n",
       "1000000130     1\n",
       "1500000043     1\n",
       "Name: infected_by, Length: 414, dtype: int64"
      ]
     },
     "execution_count": 58,
     "metadata": {},
     "output_type": "execute_result"
    }
   ],
   "source": [
    "patient['infected_by'].value_counts()"
   ]
  },
  {
   "cell_type": "code",
   "execution_count": 64,
   "metadata": {},
   "outputs": [
    {
     "data": {
      "text/plain": [
       "[1681]"
      ]
     },
     "execution_count": 64,
     "metadata": {},
     "output_type": "execute_result"
    }
   ],
   "source": [
    "patient['patient_id'][patient['patient_id'] == 2000000205 ].index.tolist()"
   ]
  },
  {
   "cell_type": "code",
   "execution_count": 65,
   "metadata": {},
   "outputs": [
    {
     "data": {
      "text/plain": [
       "patient_id                      2000000205\n",
       "global_num                            8100\n",
       "sex                                 female\n",
       "birth_year                            1946\n",
       "age                                    70s\n",
       "country                              Korea\n",
       "province                       Gyeonggi-do\n",
       "city                           Seongnam-si\n",
       "disease                                NaN\n",
       "infection_case        contact with patient\n",
       "infection_order                        NaN\n",
       "infected_by                     1000000138\n",
       "contact_number                           8\n",
       "symptom_onset_date                     NaN\n",
       "confirmed_date                  2020-03-14\n",
       "released_date                          NaN\n",
       "deceased_date                          NaN\n",
       "state                             isolated\n",
       "Name: 1681, dtype: object"
      ]
     },
     "execution_count": 65,
     "metadata": {},
     "output_type": "execute_result"
    }
   ],
   "source": [
    "p3 = patient.loc[1681,:]\n",
    "p3"
   ]
  },
  {
   "cell_type": "code",
   "execution_count": null,
   "metadata": {},
   "outputs": [],
   "source": []
  }
 ],
 "metadata": {
  "kernelspec": {
   "display_name": "Python 3",
   "language": "python",
   "name": "python3"
  },
  "language_info": {
   "codemirror_mode": {
    "name": "ipython",
    "version": 3
   },
   "file_extension": ".py",
   "mimetype": "text/x-python",
   "name": "python",
   "nbconvert_exporter": "python",
   "pygments_lexer": "ipython3",
   "version": "3.7.6"
  }
 },
 "nbformat": 4,
 "nbformat_minor": 4
}
